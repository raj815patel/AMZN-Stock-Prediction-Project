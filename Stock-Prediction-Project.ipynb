{
  "nbformat": 4,
  "nbformat_minor": 0,
  "metadata": {
    "colab": {
      "name": " Fin320-Learn Machine Learning for Finance  4.ipynb",
      "provenance": [],
      "collapsed_sections": [],
      "authorship_tag": "ABX9TyOHTf0loXO5mi4KxinZcUJ2",
      "include_colab_link": true
    },
    "kernelspec": {
      "name": "python3",
      "display_name": "Python 3"
    },
    "language_info": {
      "name": "python"
    }
  },
  "cells": [
    {
      "cell_type": "markdown",
      "metadata": {
        "id": "view-in-github",
        "colab_type": "text"
      },
      "source": [
        "<a href=\"https://colab.research.google.com/github/raj815patel/Stock-Prediction-Project/blob/main/Fin320_Learn_Machine_Learning_for_Finance_4.ipynb\" target=\"_parent\"><img src=\"https://colab.research.google.com/assets/colab-badge.svg\" alt=\"Open In Colab\"/></a>"
      ]
    },
    {
      "cell_type": "markdown",
      "metadata": {
        "id": "CHlp9MgVQ-zi"
      },
      "source": [
        "Learn Machine Learning for Finance\n",
        "by Raj Patel\n",
        "\n",
        "Project 4\n",
        "\n",
        "2 May  2021\n",
        "\n",
        "Fin320-102"
      ]
    },
    {
      "cell_type": "markdown",
      "metadata": {
        "id": "X9JRN4-4RQ18"
      },
      "source": [
        "For this project python will be used to create a machine learning model to predict future price of Amazon stock. In this project I will try to teach and show how to make a simple machine learning model for finance. A machine learning model can do many things like predict and make recommendations. But a key thing in creating a machine learning model is having data. The more reliable and clean the data is the more accurate the model can predict. Also in some cases the more data being used to train the models the more accurate it can predict. In the process of developing in this model I will be importing data, cleaning the data, training and testing the model. Any unbalances or null values in your data set and throw your model prediction off. In this case since I am using stock data there isn't much data that needs to be cleaned and processed since primarily the close price data will be used. There are many different models to choose from, some models may perform better than others depending on your goal, but the model used in this project is called decision tree regressor.\n"
      ]
    },
    {
      "cell_type": "code",
      "metadata": {
        "id": "pk6pBdgzjLTd"
      },
      "source": [
        "#Import libraries\n",
        "import numpy as np \n",
        "import pandas as pd\n",
        "import pandas_datareader as web\n",
        "from sklearn.tree import DecisionTreeRegressor \n",
        "from sklearn.linear_model import LinearRegression \n",
        "from sklearn.model_selection import train_test_split\n",
        "import matplotlib.pyplot as plt\n",
        "plt.style.use('bmh')\n",
        "%matplotlib inline"
      ],
      "execution_count": null,
      "outputs": []
    },
    {
      "cell_type": "markdown",
      "metadata": {
        "id": "N7UV-7N-Eq3s"
      },
      "source": [
        "\n",
        "The code above is importing the necessary libraries for the project. Pandas will be used to build dataframes and retrieve data from yahoo finance. Numpy will be used to create arrays. Sklearn is an important library when trying to build machine learning models. Sklearn gives you the ability to train, test and create your models. Some other libraries that people opt to use for machine learning are Keras and TensorFlow. Lastly matplotlib is imported so we are able to see visual charts on our data and allow us to compare visually. Pandas data reader allows us to easily obtain stock information from yahoo finance. If our source of data were to be different such as an api, csv file, xlsx file, etc datareader is not necessary but pandas is a must. Pandas allows us to create dataframes which organizes our data into a table like format. A data frame has rows and columns and you can alter those rows and columns with python functions."
      ]
    },
    {
      "cell_type": "code",
      "metadata": {
        "colab": {
          "base_uri": "https://localhost:8080/",
          "height": 235
        },
        "id": "qRvKhNCljNMb",
        "outputId": "250d0264-6531-48d4-8cd0-c346aead71ec"
      },
      "source": [
        "#Load Data \n",
        "df =web.get_data_yahoo('amzn',start='2020-4-25',end='2021-4-26')\n",
        "df.head()"
      ],
      "execution_count": null,
      "outputs": [
        {
          "output_type": "execute_result",
          "data": {
            "text/html": [
              "<div>\n",
              "<style scoped>\n",
              "    .dataframe tbody tr th:only-of-type {\n",
              "        vertical-align: middle;\n",
              "    }\n",
              "\n",
              "    .dataframe tbody tr th {\n",
              "        vertical-align: top;\n",
              "    }\n",
              "\n",
              "    .dataframe thead th {\n",
              "        text-align: right;\n",
              "    }\n",
              "</style>\n",
              "<table border=\"1\" class=\"dataframe\">\n",
              "  <thead>\n",
              "    <tr style=\"text-align: right;\">\n",
              "      <th></th>\n",
              "      <th>High</th>\n",
              "      <th>Low</th>\n",
              "      <th>Open</th>\n",
              "      <th>Close</th>\n",
              "      <th>Volume</th>\n",
              "      <th>Adj Close</th>\n",
              "    </tr>\n",
              "    <tr>\n",
              "      <th>Date</th>\n",
              "      <th></th>\n",
              "      <th></th>\n",
              "      <th></th>\n",
              "      <th></th>\n",
              "      <th></th>\n",
              "      <th></th>\n",
              "    </tr>\n",
              "  </thead>\n",
              "  <tbody>\n",
              "    <tr>\n",
              "      <th>2020-04-27</th>\n",
              "      <td>2444.879883</td>\n",
              "      <td>2363.000000</td>\n",
              "      <td>2443.199951</td>\n",
              "      <td>2376.000000</td>\n",
              "      <td>5645600</td>\n",
              "      <td>2376.000000</td>\n",
              "    </tr>\n",
              "    <tr>\n",
              "      <th>2020-04-28</th>\n",
              "      <td>2373.500000</td>\n",
              "      <td>2306.000000</td>\n",
              "      <td>2372.100098</td>\n",
              "      <td>2314.080078</td>\n",
              "      <td>5269400</td>\n",
              "      <td>2314.080078</td>\n",
              "    </tr>\n",
              "    <tr>\n",
              "      <th>2020-04-29</th>\n",
              "      <td>2391.889893</td>\n",
              "      <td>2310.000000</td>\n",
              "      <td>2330.010010</td>\n",
              "      <td>2372.709961</td>\n",
              "      <td>4591600</td>\n",
              "      <td>2372.709961</td>\n",
              "    </tr>\n",
              "    <tr>\n",
              "      <th>2020-04-30</th>\n",
              "      <td>2475.000000</td>\n",
              "      <td>2396.010010</td>\n",
              "      <td>2419.840088</td>\n",
              "      <td>2474.000000</td>\n",
              "      <td>9534600</td>\n",
              "      <td>2474.000000</td>\n",
              "    </tr>\n",
              "    <tr>\n",
              "      <th>2020-05-01</th>\n",
              "      <td>2362.439941</td>\n",
              "      <td>2258.189941</td>\n",
              "      <td>2336.800049</td>\n",
              "      <td>2286.040039</td>\n",
              "      <td>9772600</td>\n",
              "      <td>2286.040039</td>\n",
              "    </tr>\n",
              "  </tbody>\n",
              "</table>\n",
              "</div>"
            ],
            "text/plain": [
              "                   High          Low  ...   Volume    Adj Close\n",
              "Date                                  ...                      \n",
              "2020-04-27  2444.879883  2363.000000  ...  5645600  2376.000000\n",
              "2020-04-28  2373.500000  2306.000000  ...  5269400  2314.080078\n",
              "2020-04-29  2391.889893  2310.000000  ...  4591600  2372.709961\n",
              "2020-04-30  2475.000000  2396.010010  ...  9534600  2474.000000\n",
              "2020-05-01  2362.439941  2258.189941  ...  9772600  2286.040039\n",
              "\n",
              "[5 rows x 6 columns]"
            ]
          },
          "metadata": {
            "tags": []
          },
          "execution_count": 16
        }
      ]
    },
    {
      "cell_type": "markdown",
      "metadata": {
        "id": "T-Zm7SjQKLL2"
      },
      "source": [
        "\n",
        "The data is getting retrieved in the code above. The data is from yahoo finance. Amazon stock is the stock that is going to be used for the model and 1 year worth of Amazon stock data is being used. Also the head of the dataframe just to make sure everything looks good in the dataframe.\n",
        "Putting the data into a dataframe will make it easier to manipulate the data later."
      ]
    },
    {
      "cell_type": "code",
      "metadata": {
        "colab": {
          "base_uri": "https://localhost:8080/"
        },
        "id": "gK-uOlkDjO6W",
        "outputId": "f44fc0e2-fb60-4932-c2d6-8fedbef1e932"
      },
      "source": [
        "# Number of Trading Days\n",
        "df.shape"
      ],
      "execution_count": null,
      "outputs": [
        {
          "output_type": "execute_result",
          "data": {
            "text/plain": [
              "(252, 6)"
            ]
          },
          "metadata": {
            "tags": []
          },
          "execution_count": 17
        }
      ]
    },
    {
      "cell_type": "markdown",
      "metadata": {
        "id": "W-dtnUJANv9l"
      },
      "source": [
        "df.shape gives the shape of the dataframe. So we have 252 rows and 6 columns. The 252 rows reflects on how many days we are working with. Since I am working with a year of the data, I get 252 since trading only takes place on weekdays and is halted for holidays. Therefore the model will be working 252 days of stock information. The columns holds information about the stock high, low, open, close, volume, and adj close. For this model close price will only be used. "
      ]
    },
    {
      "cell_type": "code",
      "metadata": {
        "colab": {
          "base_uri": "https://localhost:8080/",
          "height": 530
        },
        "id": "-bE3FUUFjWIB",
        "outputId": "948f5f32-2817-478b-90d2-6d0bb2fc97a0"
      },
      "source": [
        "#Graph Close Price Data \n",
        "plt.figure(figsize=(16,8))\n",
        "plt.title('AMZN')\n",
        "plt.xlabel('Days')\n",
        "plt.ylabel('Close Price')\n",
        "plt.plot(df['Close'])"
      ],
      "execution_count": null,
      "outputs": [
        {
          "output_type": "execute_result",
          "data": {
            "text/plain": [
              "[<matplotlib.lines.Line2D at 0x7fafcb78b310>]"
            ]
          },
          "metadata": {
            "tags": []
          },
          "execution_count": 18
        },
        {
          "output_type": "display_data",
          "data": {
            "image/png": "[encoded data removed]",
            "text/plain": [
              "<Figure size 1152x576 with 1 Axes>"
            ]
          },
          "metadata": {
            "tags": [],
            "needs_background": "light"
          }
        }
      ]
    },
    {
      "cell_type": "markdown",
      "metadata": {
        "id": "RduO5FIcQfBO"
      },
      "source": [
        "In the code above matplotlib is used to plot the Amazon stock on a graph. The days are the x axis and the close price is the y axis. The chart shows the close price of the Amazon stock from the start and end date we defined above. There are 252 closing prices plotted on the graph. This graph will be important when comparing to our model predictions since it will give a visual representation of the actual closing price vs what the model prediction of the close price. Having a visual is beneficial to see how the previous data is represented and how the model will predict accurately.\n"
      ]
    },
    {
      "cell_type": "code",
      "metadata": {
        "id": "mknQTPs8jWcx",
        "colab": {
          "base_uri": "https://localhost:8080/",
          "height": 235
        },
        "outputId": "0f9309ca-e09b-4a8b-d3b9-c82865956252"
      },
      "source": [
        "# Get Close Price\n",
        "df=df[['Close']]\n",
        "df.head()"
      ],
      "execution_count": null,
      "outputs": [
        {
          "output_type": "execute_result",
          "data": {
            "text/html": [
              "<div>\n",
              "<style scoped>\n",
              "    .dataframe tbody tr th:only-of-type {\n",
              "        vertical-align: middle;\n",
              "    }\n",
              "\n",
              "    .dataframe tbody tr th {\n",
              "        vertical-align: top;\n",
              "    }\n",
              "\n",
              "    .dataframe thead th {\n",
              "        text-align: right;\n",
              "    }\n",
              "</style>\n",
              "<table border=\"1\" class=\"dataframe\">\n",
              "  <thead>\n",
              "    <tr style=\"text-align: right;\">\n",
              "      <th></th>\n",
              "      <th>Close</th>\n",
              "    </tr>\n",
              "    <tr>\n",
              "      <th>Date</th>\n",
              "      <th></th>\n",
              "    </tr>\n",
              "  </thead>\n",
              "  <tbody>\n",
              "    <tr>\n",
              "      <th>2020-04-27</th>\n",
              "      <td>2376.000000</td>\n",
              "    </tr>\n",
              "    <tr>\n",
              "      <th>2020-04-28</th>\n",
              "      <td>2314.080078</td>\n",
              "    </tr>\n",
              "    <tr>\n",
              "      <th>2020-04-29</th>\n",
              "      <td>2372.709961</td>\n",
              "    </tr>\n",
              "    <tr>\n",
              "      <th>2020-04-30</th>\n",
              "      <td>2474.000000</td>\n",
              "    </tr>\n",
              "    <tr>\n",
              "      <th>2020-05-01</th>\n",
              "      <td>2286.040039</td>\n",
              "    </tr>\n",
              "  </tbody>\n",
              "</table>\n",
              "</div>"
            ],
            "text/plain": [
              "                  Close\n",
              "Date                   \n",
              "2020-04-27  2376.000000\n",
              "2020-04-28  2314.080078\n",
              "2020-04-29  2372.709961\n",
              "2020-04-30  2474.000000\n",
              "2020-05-01  2286.040039"
            ]
          },
          "metadata": {
            "tags": []
          },
          "execution_count": 19
        }
      ]
    },
    {
      "cell_type": "markdown",
      "metadata": {
        "id": "XHwuT4T6Qpu6"
      },
      "source": [
        "since we are working with only the closing price of the stock we do not need all the other columns. In the code above we set the dataframe(df) equal to just the closing price column of the dataframe. So now every time (df) is called only the closing price will be shown, not the open, high, low, since we do not need those columns. Putting the data into a dataframe allowed us to manipulate the data frame for our model. "
      ]
    },
    {
      "cell_type": "code",
      "metadata": {
        "colab": {
          "base_uri": "https://localhost:8080/",
          "height": 235
        },
        "id": "lDY0-7_6jl_e",
        "outputId": "95d64e2d-0836-4462-e8be-5e5582a27fc3"
      },
      "source": [
        "#Create Variable To Predict 'x' days out into the Future \n",
        "future_days=25 \n",
        "#Create Column (target) shifted 'x' days up\n",
        "df['Prediction']=df[['Close']].shift(-future_days)\n",
        "df.tail()"
      ],
      "execution_count": null,
      "outputs": [
        {
          "output_type": "execute_result",
          "data": {
            "text/html": [
              "<div>\n",
              "<style scoped>\n",
              "    .dataframe tbody tr th:only-of-type {\n",
              "        vertical-align: middle;\n",
              "    }\n",
              "\n",
              "    .dataframe tbody tr th {\n",
              "        vertical-align: top;\n",
              "    }\n",
              "\n",
              "    .dataframe thead th {\n",
              "        text-align: right;\n",
              "    }\n",
              "</style>\n",
              "<table border=\"1\" class=\"dataframe\">\n",
              "  <thead>\n",
              "    <tr style=\"text-align: right;\">\n",
              "      <th></th>\n",
              "      <th>Close</th>\n",
              "      <th>Prediction</th>\n",
              "    </tr>\n",
              "    <tr>\n",
              "      <th>Date</th>\n",
              "      <th></th>\n",
              "      <th></th>\n",
              "    </tr>\n",
              "  </thead>\n",
              "  <tbody>\n",
              "    <tr>\n",
              "      <th>2021-04-20</th>\n",
              "      <td>3334.689941</td>\n",
              "      <td>NaN</td>\n",
              "    </tr>\n",
              "    <tr>\n",
              "      <th>2021-04-21</th>\n",
              "      <td>3362.020020</td>\n",
              "      <td>NaN</td>\n",
              "    </tr>\n",
              "    <tr>\n",
              "      <th>2021-04-22</th>\n",
              "      <td>3309.040039</td>\n",
              "      <td>NaN</td>\n",
              "    </tr>\n",
              "    <tr>\n",
              "      <th>2021-04-23</th>\n",
              "      <td>3340.879883</td>\n",
              "      <td>NaN</td>\n",
              "    </tr>\n",
              "    <tr>\n",
              "      <th>2021-04-26</th>\n",
              "      <td>3409.000000</td>\n",
              "      <td>NaN</td>\n",
              "    </tr>\n",
              "  </tbody>\n",
              "</table>\n",
              "</div>"
            ],
            "text/plain": [
              "                  Close  Prediction\n",
              "Date                               \n",
              "2021-04-20  3334.689941         NaN\n",
              "2021-04-21  3362.020020         NaN\n",
              "2021-04-22  3309.040039         NaN\n",
              "2021-04-23  3340.879883         NaN\n",
              "2021-04-26  3409.000000         NaN"
            ]
          },
          "metadata": {
            "tags": []
          },
          "execution_count": 20
        }
      ]
    },
    {
      "cell_type": "markdown",
      "metadata": {
        "id": "E23G0SK_GXU0"
      },
      "source": [
        "In the code above a variable is created called future_days which will predict 25 days into the future. This variable will be used to reflect the number of days the model will predict into the future. In the df dataframe a new column is created which will reflect the target data. The prediction column that was added is to predict future values away from the current price. The .shift() function is used to shift/move then index by a set number. Since we want to predict future prices, the - is put in front of future_days to shift at the most recent price. If the - is not put it would shift starting from the top of the dataframe or at the start of the data. Essentially, we are making the 25 most recent close price dates prediction set to NaN or blank. In this model it will predict the last 25 days from 4/1/2021-4/26/2021. We do know the actual closing price of the stock during those times but the model will act like it does not know. This way we can compare the model predictions to the actual price and see how accurate the model predicted. In most cases you can opt to improve the model but I will not be doing this for the project."
      ]
    },
    {
      "cell_type": "code",
      "metadata": {
        "id": "ufLfQpB4jmsr",
        "colab": {
          "base_uri": "https://localhost:8080/"
        },
        "outputId": "ad4ef53e-07ad-4a9c-a917-d7507aec87da"
      },
      "source": [
        "#Create Feature Data Set (X) and convert it to a numpy array and remove last 'x'days/rows\n",
        "X = np.array(df.drop(['Prediction'],1))[:-future_days]\n",
        "print(X)"
      ],
      "execution_count": null,
      "outputs": [
        {
          "output_type": "stream",
          "text": [
            "[[2376.        ]\n",
            " [2314.08007812]\n",
            " [2372.70996094]\n",
            " [2474.        ]\n",
            " [2286.04003906]\n",
            " [2315.98999023]\n",
            " [2317.80004883]\n",
            " [2351.26000977]\n",
            " [2367.61010742]\n",
            " [2379.61010742]\n",
            " [2409.        ]\n",
            " [2356.94995117]\n",
            " [2367.91992188]\n",
            " [2388.85009766]\n",
            " [2409.7800293 ]\n",
            " [2426.26000977]\n",
            " [2449.33007812]\n",
            " [2497.93994141]\n",
            " [2446.73999023]\n",
            " [2436.87988281]\n",
            " [2421.86010742]\n",
            " [2410.38989258]\n",
            " [2401.10009766]\n",
            " [2442.37011719]\n",
            " [2471.04003906]\n",
            " [2472.40991211]\n",
            " [2478.39990234]\n",
            " [2460.60009766]\n",
            " [2483.        ]\n",
            " [2524.06005859]\n",
            " [2600.86010742]\n",
            " [2647.44995117]\n",
            " [2557.95996094]\n",
            " [2545.02001953]\n",
            " [2572.67993164]\n",
            " [2615.27001953]\n",
            " [2640.97998047]\n",
            " [2653.97998047]\n",
            " [2675.01000977]\n",
            " [2713.82006836]\n",
            " [2764.40991211]\n",
            " [2734.39990234]\n",
            " [2754.58007812]\n",
            " [2692.87011719]\n",
            " [2680.37988281]\n",
            " [2758.82006836]\n",
            " [2878.69995117]\n",
            " [2890.30004883]\n",
            " [3057.04003906]\n",
            " [3000.12011719]\n",
            " [3081.11010742]\n",
            " [3182.62988281]\n",
            " [3200.        ]\n",
            " [3104.        ]\n",
            " [3084.        ]\n",
            " [3008.87011719]\n",
            " [2999.89990234]\n",
            " [2961.9699707 ]\n",
            " [3196.84008789]\n",
            " [3138.29003906]\n",
            " [3099.90991211]\n",
            " [2986.55004883]\n",
            " [3008.90991211]\n",
            " [3055.20996094]\n",
            " [3000.33007812]\n",
            " [3033.5300293 ]\n",
            " [3051.87988281]\n",
            " [3164.67993164]\n",
            " [3111.88989258]\n",
            " [3138.83007812]\n",
            " [3205.0300293 ]\n",
            " [3225.        ]\n",
            " [3167.45996094]\n",
            " [3148.15991211]\n",
            " [3080.66992188]\n",
            " [3162.23999023]\n",
            " [3161.02001953]\n",
            " [3148.02001953]\n",
            " [3182.40991211]\n",
            " [3312.48999023]\n",
            " [3260.47998047]\n",
            " [3297.37011719]\n",
            " [3284.7199707 ]\n",
            " [3307.45996094]\n",
            " [3346.48999023]\n",
            " [3441.85009766]\n",
            " [3400.        ]\n",
            " [3401.80004883]\n",
            " [3450.95996094]\n",
            " [3499.12011719]\n",
            " [3531.44995117]\n",
            " [3368.        ]\n",
            " [3294.62011719]\n",
            " [3149.84008789]\n",
            " [3268.61010742]\n",
            " [3175.11010742]\n",
            " [3116.2199707 ]\n",
            " [3102.9699707 ]\n",
            " [3156.12988281]\n",
            " [3078.10009766]\n",
            " [3008.72998047]\n",
            " [2954.90991211]\n",
            " [2960.4699707 ]\n",
            " [3128.98999023]\n",
            " [2999.86010742]\n",
            " [3019.79003906]\n",
            " [3095.12988281]\n",
            " [3174.05004883]\n",
            " [3144.87988281]\n",
            " [3148.72998047]\n",
            " [3221.26000977]\n",
            " [3125.        ]\n",
            " [3199.19995117]\n",
            " [3099.95996094]\n",
            " [3195.68994141]\n",
            " [3190.55004883]\n",
            " [3286.64990234]\n",
            " [3442.92993164]\n",
            " [3443.62988281]\n",
            " [3363.70996094]\n",
            " [3338.64990234]\n",
            " [3272.70996094]\n",
            " [3207.20996094]\n",
            " [3217.01000977]\n",
            " [3184.93994141]\n",
            " [3176.39990234]\n",
            " [3204.39990234]\n",
            " [3207.04003906]\n",
            " [3286.33007812]\n",
            " [3162.7800293 ]\n",
            " [3211.01000977]\n",
            " [3036.14990234]\n",
            " [3004.47998047]\n",
            " [3048.40991211]\n",
            " [3241.15991211]\n",
            " [3322.        ]\n",
            " [3311.37011719]\n",
            " [3143.73999023]\n",
            " [3035.02001953]\n",
            " [3137.38989258]\n",
            " [3110.2800293 ]\n",
            " [3128.81005859]\n",
            " [3131.06005859]\n",
            " [3135.65991211]\n",
            " [3105.45996094]\n",
            " [3117.02001953]\n",
            " [3099.39990234]\n",
            " [3098.38989258]\n",
            " [3118.06005859]\n",
            " [3185.07006836]\n",
            " [3195.34008789]\n",
            " [3168.04003906]\n",
            " [3220.08007812]\n",
            " [3203.5300293 ]\n",
            " [3186.72998047]\n",
            " [3162.58007812]\n",
            " [3158.        ]\n",
            " [3177.29003906]\n",
            " [3104.19995117]\n",
            " [3101.48999023]\n",
            " [3116.41992188]\n",
            " [3156.9699707 ]\n",
            " [3165.12011719]\n",
            " [3240.95996094]\n",
            " [3236.08007812]\n",
            " [3201.64990234]\n",
            " [3206.17993164]\n",
            " [3206.52001953]\n",
            " [3185.27001953]\n",
            " [3172.68994141]\n",
            " [3283.95996094]\n",
            " [3322.        ]\n",
            " [3285.85009766]\n",
            " [3256.92993164]\n",
            " [3186.62988281]\n",
            " [3218.51000977]\n",
            " [3138.37988281]\n",
            " [3162.15991211]\n",
            " [3182.69995117]\n",
            " [3114.20996094]\n",
            " [3120.83007812]\n",
            " [3165.88989258]\n",
            " [3127.4699707 ]\n",
            " [3104.25      ]\n",
            " [3120.76000977]\n",
            " [3263.37988281]\n",
            " [3306.98999023]\n",
            " [3292.22998047]\n",
            " [3294.        ]\n",
            " [3326.12988281]\n",
            " [3232.58007812]\n",
            " [3237.62011719]\n",
            " [3206.19995117]\n",
            " [3342.87988281]\n",
            " [3380.        ]\n",
            " [3312.5300293 ]\n",
            " [3331.        ]\n",
            " [3352.14990234]\n",
            " [3322.93994141]\n",
            " [3305.        ]\n",
            " [3286.58007812]\n",
            " [3262.12988281]\n",
            " [3277.70996094]\n",
            " [3268.94995117]\n",
            " [3308.63989258]\n",
            " [3328.22998047]\n",
            " [3249.89990234]\n",
            " [3180.73999023]\n",
            " [3194.5       ]\n",
            " [3159.5300293 ]\n",
            " [3057.15991211]\n",
            " [3092.92993164]\n",
            " [3146.13989258]\n",
            " [3094.5300293 ]\n",
            " [3005.        ]\n",
            " [2977.57006836]\n",
            " [3000.45996094]\n",
            " [2951.94995117]\n",
            " [3062.85009766]\n",
            " [3057.63989258]\n",
            " [3113.59008789]\n",
            " [3089.48999023]\n",
            " [3081.67993164]\n",
            " [3091.86010742]\n",
            " [3135.72998047]\n",
            " [3027.98999023]\n",
            " [3074.95996094]]\n"
          ],
          "name": "stdout"
        }
      ]
    },
    {
      "cell_type": "markdown",
      "metadata": {
        "id": "Ho12sSKdGLub"
      },
      "source": [
        "Here a feature dataset is being created as a numpy array. The df.drop() is used to drop the 'Prediction' column so we only remain with the close price column. Since we are predicting the last 25 days or future_days from the stock data we want all of the rows besides future_days that is why the - is put in the front. We do know the actual price of those 25 days but it is taken out so the model is able to predict those days and able to compare it to the actual price."
      ]
    },
    {
      "cell_type": "code",
      "metadata": {
        "colab": {
          "base_uri": "https://localhost:8080/"
        },
        "id": "hafdvwRPvJ57",
        "outputId": "a136d62d-95dc-4196-f16e-b8dd682c1de9"
      },
      "source": [
        "#Create Target Data Set(y) and convert it to a numpy array and get all of the target values except the last 'x' rows \n",
        "y = np.array(df['Prediction'])[:-future_days]\n",
        "print(y)"
      ],
      "execution_count": null,
      "outputs": [
        {
          "output_type": "stream",
          "text": [
            "[2472.40991211 2478.39990234 2460.60009766 2483.         2524.06005859\n",
            " 2600.86010742 2647.44995117 2557.95996094 2545.02001953 2572.67993164\n",
            " 2615.27001953 2640.97998047 2653.97998047 2675.01000977 2713.82006836\n",
            " 2764.40991211 2734.39990234 2754.58007812 2692.87011719 2680.37988281\n",
            " 2758.82006836 2878.69995117 2890.30004883 3057.04003906 3000.12011719\n",
            " 3081.11010742 3182.62988281 3200.         3104.         3084.\n",
            " 3008.87011719 2999.89990234 2961.9699707  3196.84008789 3138.29003906\n",
            " 3099.90991211 2986.55004883 3008.90991211 3055.20996094 3000.33007812\n",
            " 3033.5300293  3051.87988281 3164.67993164 3111.88989258 3138.83007812\n",
            " 3205.0300293  3225.         3167.45996094 3148.15991211 3080.66992188\n",
            " 3162.23999023 3161.02001953 3148.02001953 3182.40991211 3312.48999023\n",
            " 3260.47998047 3297.37011719 3284.7199707  3307.45996094 3346.48999023\n",
            " 3441.85009766 3400.         3401.80004883 3450.95996094 3499.12011719\n",
            " 3531.44995117 3368.         3294.62011719 3149.84008789 3268.61010742\n",
            " 3175.11010742 3116.2199707  3102.9699707  3156.12988281 3078.10009766\n",
            " 3008.72998047 2954.90991211 2960.4699707  3128.98999023 2999.86010742\n",
            " 3019.79003906 3095.12988281 3174.05004883 3144.87988281 3148.72998047\n",
            " 3221.26000977 3125.         3199.19995117 3099.95996094 3195.68994141\n",
            " 3190.55004883 3286.64990234 3442.92993164 3443.62988281 3363.70996094\n",
            " 3338.64990234 3272.70996094 3207.20996094 3217.01000977 3184.93994141\n",
            " 3176.39990234 3204.39990234 3207.04003906 3286.33007812 3162.7800293\n",
            " 3211.01000977 3036.14990234 3004.47998047 3048.40991211 3241.15991211\n",
            " 3322.         3311.37011719 3143.73999023 3035.02001953 3137.38989258\n",
            " 3110.2800293  3128.81005859 3131.06005859 3135.65991211 3105.45996094\n",
            " 3117.02001953 3099.39990234 3098.38989258 3118.06005859 3185.07006836\n",
            " 3195.34008789 3168.04003906 3220.08007812 3203.5300293  3186.72998047\n",
            " 3162.58007812 3158.         3177.29003906 3104.19995117 3101.48999023\n",
            " 3116.41992188 3156.9699707  3165.12011719 3240.95996094 3236.08007812\n",
            " 3201.64990234 3206.17993164 3206.52001953 3185.27001953 3172.68994141\n",
            " 3283.95996094 3322.         3285.85009766 3256.92993164 3186.62988281\n",
            " 3218.51000977 3138.37988281 3162.15991211 3182.69995117 3114.20996094\n",
            " 3120.83007812 3165.88989258 3127.4699707  3104.25       3120.76000977\n",
            " 3263.37988281 3306.98999023 3292.22998047 3294.         3326.12988281\n",
            " 3232.58007812 3237.62011719 3206.19995117 3342.87988281 3380.\n",
            " 3312.5300293  3331.         3352.14990234 3322.93994141 3305.\n",
            " 3286.58007812 3262.12988281 3277.70996094 3268.94995117 3308.63989258\n",
            " 3328.22998047 3249.89990234 3180.73999023 3194.5        3159.5300293\n",
            " 3057.15991211 3092.92993164 3146.13989258 3094.5300293  3005.\n",
            " 2977.57006836 3000.45996094 2951.94995117 3062.85009766 3057.63989258\n",
            " 3113.59008789 3089.48999023 3081.67993164 3091.86010742 3135.72998047\n",
            " 3027.98999023 3074.95996094 3110.87011719 3137.5        3087.07006836\n",
            " 3046.26000977 3052.0300293  3075.72998047 3055.29003906 3094.08007812\n",
            " 3161.         3226.72998047 3223.82006836 3279.38989258 3299.30004883\n",
            " 3372.19995117 3379.38989258 3400.         3333.         3379.09008789\n",
            " 3399.43994141 3372.01000977 3334.68994141 3362.02001953 3309.04003906\n",
            " 3340.87988281 3409.        ]\n"
          ],
          "name": "stdout"
        }
      ]
    },
    {
      "cell_type": "markdown",
      "metadata": {
        "id": "atvKEG47Gg02"
      },
      "source": [
        "Next a target data set is created. This data is using the 'Predictions' column as the data and is converted into a numpy array. Again we do not include the future_days of 25 so -future_days is used in the dataset so the model can predict on those days. The target data set is the target prices of the data. "
      ]
    },
    {
      "cell_type": "code",
      "metadata": {
        "id": "6lgOsvkavM5w"
      },
      "source": [
        "#Split data into 75% training and 25% testing\n",
        "x_train,x_test,y_train,y_test= train_test_split(X,y,test_size=0.25)"
      ],
      "execution_count": null,
      "outputs": []
    },
    {
      "cell_type": "markdown",
      "metadata": {
        "id": "TUWVXLMKG_Y4"
      },
      "source": [
        "Here is the first step in creatin the actual machine leanring model. The data set is split to determine how much data is going to be used to train the model and how much data is going to be used to test the model. test_size is set .25 so 25% of the data will be used for testing and the rest of the data will be used to train the model. Depending on your circumstance and goal you can adjust this to your needs. But since we want to have a good amount of data to work with and train the model 75% will be used for train which is a good amount. "
      ]
    },
    {
      "cell_type": "code",
      "metadata": {
        "id": "E2l7ls5WvPHk"
      },
      "source": [
        "#Create the models\n",
        "#Create decison tree regressor model \n",
        "tree = DecisionTreeRegressor().fit(x_train,y_train)\n"
      ],
      "execution_count": null,
      "outputs": []
    },
    {
      "cell_type": "markdown",
      "metadata": {
        "id": "sMJYHAqpWvTR"
      },
      "source": [
        "In the code above the model is being made and fitted. The model that is being used is a DecisionTreeRegressor model. It will take in the x_train and y_train we set above. A DecisionTreeRegressor is a type of decision tree. It splits into smaller and smaller subsets. In a decision tree there are leaf nodes and leaf nodes. A decision node has two or more branches of classification. A lead mode represents a decision on a numerical target. Also the topmost decision in the tree is called the root node. A decision tree is a great model that can be applied to not only stock data but other data has a lot of factors in decision making."
      ]
    },
    {
      "cell_type": "code",
      "metadata": {
        "colab": {
          "base_uri": "https://localhost:8080/"
        },
        "id": "u9R0vJZ5vREH",
        "outputId": "9a20165a-f886-4fd1-adea-2ce1ee641c9c"
      },
      "source": [
        "#Get last x rows of the feature dataset\n",
        "x_future = df.drop(['Prediction'],1)[:-future_days]\n",
        "x_future = x_future.tail(future_days)\n",
        "x_future = np.array(x_future)\n",
        "x_future"
      ],
      "execution_count": null,
      "outputs": [
        {
          "output_type": "execute_result",
          "data": {
            "text/plain": [
              "array([[3277.70996094],\n",
              "       [3268.94995117],\n",
              "       [3308.63989258],\n",
              "       [3328.22998047],\n",
              "       [3249.89990234],\n",
              "       [3180.73999023],\n",
              "       [3194.5       ],\n",
              "       [3159.5300293 ],\n",
              "       [3057.15991211],\n",
              "       [3092.92993164],\n",
              "       [3146.13989258],\n",
              "       [3094.5300293 ],\n",
              "       [3005.        ],\n",
              "       [2977.57006836],\n",
              "       [3000.45996094],\n",
              "       [2951.94995117],\n",
              "       [3062.85009766],\n",
              "       [3057.63989258],\n",
              "       [3113.59008789],\n",
              "       [3089.48999023],\n",
              "       [3081.67993164],\n",
              "       [3091.86010742],\n",
              "       [3135.72998047],\n",
              "       [3027.98999023],\n",
              "       [3074.95996094]])"
            ]
          },
          "metadata": {
            "tags": []
          },
          "execution_count": 25
        }
      ]
    },
    {
      "cell_type": "markdown",
      "metadata": {
        "id": "u9PXAJ20gSL3"
      },
      "source": [
        "Here the x_future is created from the feature dataset which is the dataset with the original stock closing prices with the prediction column dropped. Since we only want the last x rows or the future_days of the dataset set the tail() function is called to get the data from the the bottom of the dataset. Finally it is created into a numpy array."
      ]
    },
    {
      "cell_type": "code",
      "metadata": {
        "colab": {
          "base_uri": "https://localhost:8080/"
        },
        "id": "cgII2vIbvTLz",
        "outputId": "67e2b1e5-53cd-49a2-e820-0fcaaa3defa2"
      },
      "source": [
        "#Show model tree prediction \n",
        "tree_prediction =tree.predict(x_future)\n",
        "print(tree_prediction)\n",
        "print()"
      ],
      "execution_count": null,
      "outputs": [
        {
          "output_type": "stream",
          "text": [
            "[3110.87011719 3137.5        3087.07006836 3046.26000977 3052.0300293\n",
            " 3075.72998047 3055.29003906 3094.08007812 3161.         3226.72998047\n",
            " 3223.82006836 3279.38989258 3299.30004883 3372.19995117 3499.12011719\n",
            " 3400.         3333.         3379.09008789 3399.43994141 3372.01000977\n",
            " 3162.23999023 3362.02001953 3309.04003906 3340.87988281 3409.        ]\n",
            "\n"
          ],
          "name": "stdout"
        }
      ]
    },
    {
      "cell_type": "markdown",
      "metadata": {
        "id": "j4wHseNBgef_"
      },
      "source": [
        "In the code above a tree_prediction variable is made and the variable is predicting the future values in x_values. tree.predict =() is a function that predicts values within the given period. the tree.predict() is used when working with the DecisionTreeRegressor model. The \"tree\" variable is called which is the model that was created earlier. The model is then called on the predict function to make a prediction on our data. The data points resulted in the function are the stock closing prices the model had predicted. "
      ]
    },
    {
      "cell_type": "code",
      "metadata": {
        "colab": {
          "base_uri": "https://localhost:8080/",
          "height": 615
        },
        "id": "zh5r-kG-vVRP",
        "outputId": "34e54d42-8be7-4547-ba0d-392ca2072e97"
      },
      "source": [
        "#Visualize the data\n",
        "predictions = tree_prediction\n",
        "\n",
        "valid = df[X.shape[0]:]\n",
        "valid['Predictions'] = predictions \n",
        "plt.figure(figsize=(16,8))\n",
        "plt.title('model')\n",
        "plt.xlabel('Days')\n",
        "plt.ylabel('Close Price')\n",
        "plt.plot(df['Close'])\n",
        "plt.plot(valid[['Close','Predictions']])\n",
        "plt.legend(['Orginal','Val','Pred'])\n",
        "plt.show()"
      ],
      "execution_count": null,
      "outputs": [
        {
          "output_type": "stream",
          "text": [
            "/usr/local/lib/python3.7/dist-packages/ipykernel_launcher.py:5: SettingWithCopyWarning: \n",
            "A value is trying to be set on a copy of a slice from a DataFrame.\n",
            "Try using .loc[row_indexer,col_indexer] = value instead\n",
            "\n",
            "See the caveats in the documentation: https://pandas.pydata.org/pandas-docs/stable/user_guide/indexing.html#returning-a-view-versus-a-copy\n",
            "  \"\"\"\n"
          ],
          "name": "stderr"
        },
        {
          "output_type": "display_data",
          "data": {
            "image/png": "[encoded data removed]",
            "text/plain": [
              "<Figure size 1152x576 with 1 Axes>"
            ]
          },
          "metadata": {
            "tags": [],
            "needs_background": "light"
          }
        }
      ]
    },
    {
      "cell_type": "markdown",
      "metadata": {
        "id": "rjW_wLe0nnPn"
      },
      "source": [
        "After the model is set up and running, plotting it on a graph is the best way to visualize it and see the results. In the graph the blue line is the past value of the stock. The purple line is what the model predicted about the stock price and the red line is the actual value of the stock in the same time period the model is predicting at. So the best way to analyze the graph is to look at the red line and the purple line. Looking at the graph the model seemed to predict in the overall right direction of the actual closing prices. There are so many values that are inaccurate but that is part of creating a machine learning model. Trying to predict future values of stock is near impossible since there are many factors in play that manipulate a stock price. Overall the model created was accurate in predicting the overall direction of the stock price. Creating machine learning models can be as simple as  this or even 10x more complex. There are many different types of models that can be created in sklearn. Some models perform better than others but it all depends on what information and data is given to the model. Machine learning for finance is an innovative way for firms to determine how to place their assets. 20-30 years ago there was no implementation of machine learning in finance. Now there are many positions that focus on using machine learning models in finance such as a quantitative analyst. The uses of machine learning in finance are endless.\n",
        "\n",
        "\n"
      ]
    }
  ]
}
